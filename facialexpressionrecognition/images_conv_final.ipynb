{
 "cells": [
  {
   "cell_type": "code",
   "execution_count": 9,
   "metadata": {},
   "outputs": [],
   "source": [
    "import keras,os,shutil"
   ]
  },
  {
   "cell_type": "code",
   "execution_count": 10,
   "metadata": {},
   "outputs": [],
   "source": [
    "train_dir='./images1/images/train'\n",
    "validation_dir='./images1/images/validation'"
   ]
  },
  {
   "cell_type": "code",
   "execution_count": 4,
   "metadata": {},
   "outputs": [
    {
     "data": {
      "text/plain": [
       "(7, 7)"
      ]
     },
     "execution_count": 4,
     "metadata": {},
     "output_type": "execute_result"
    }
   ],
   "source": [
    "len(os.listdir(train_dir)),len(os.listdir(validation_dir))"
   ]
  },
  {
   "cell_type": "code",
   "execution_count": 5,
   "metadata": {},
   "outputs": [],
   "source": [
    "trainangry='./images1/images/train/angry'\n",
    "traindisgust='./images1/images/train/disgust'\n",
    "trainfear='./images1/images/train/fear'\n",
    "trainhappy='./images1/images/train/happy'\n",
    "trainneutral='./images1/images/train/neutral'\n",
    "trainsad='./images1/images/train/sad'\n",
    "trainsurprise='./images1/images/train/surprise'"
   ]
  },
  {
   "cell_type": "code",
   "execution_count": 6,
   "metadata": {},
   "outputs": [
    {
     "data": {
      "text/plain": [
       "(3993, 436, 4103, 7164, 4982, 4938, 3205)"
      ]
     },
     "execution_count": 6,
     "metadata": {},
     "output_type": "execute_result"
    }
   ],
   "source": [
    "len(os.listdir(trainangry)),len(os.listdir(traindisgust)),len(os.listdir(trainfear)),len(os.listdir(trainhappy)),len(os.listdir(trainneutral)),len(os.listdir(trainsad)),len(os.listdir(trainsurprise))"
   ]
  },
  {
   "cell_type": "code",
   "execution_count": 7,
   "metadata": {},
   "outputs": [],
   "source": [
    "validangry='./images1/images/validation/angry'\n",
    "validdisgust='./images1/images/validation/disgust'\n",
    "validfear='./images1/images/validation/fear'\n",
    "validhappy='./images1/images/validation/happy'\n",
    "validneutral='./images1/images/validation/neutral'\n",
    "validsad='./images1/images/validation/sad'\n",
    "validsurpise='./images1/images/validation/surprise'"
   ]
  },
  {
   "cell_type": "code",
   "execution_count": 8,
   "metadata": {},
   "outputs": [
    {
     "data": {
      "text/plain": [
       "(960, 111, 1018, 1825, 1216, 1139, 797)"
      ]
     },
     "execution_count": 8,
     "metadata": {},
     "output_type": "execute_result"
    }
   ],
   "source": [
    "len(os.listdir(validangry)),len(os.listdir(validdisgust)),len(os.listdir(validfear)),len(os.listdir(validhappy)),len(os.listdir(validneutral)),len(os.listdir(validsad)),len(os.listdir(validsurpise))"
   ]
  },
  {
   "cell_type": "code",
   "execution_count": 12,
   "metadata": {},
   "outputs": [
    {
     "name": "stdout",
     "output_type": "stream",
     "text": [
      "WARNING:tensorflow:From C:\\Users\\Venugopal\\anaconda3\\lib\\site-packages\\tensorflow\\python\\ops\\resource_variable_ops.py:435: colocate_with (from tensorflow.python.framework.ops) is deprecated and will be removed in a future version.\n",
      "Instructions for updating:\n",
      "Colocations handled automatically by placer.\n"
     ]
    }
   ],
   "source": [
    "from keras.layers import Dense,Flatten,Dropout,Conv2D,MaxPooling2D\n",
    "from keras.models import Sequential\n",
    "\n",
    "model = Sequential()\n",
    "model.add(Conv2D(64, (3, 3),padding='same', activation='relu',input_shape=(48, 48, 3)))\n",
    "model.add(MaxPooling2D((2, 2)))\n",
    "model.add(Dropout(0.2))\n",
    "\n",
    "model.add(Conv2D(128, (3, 3),padding='same' ,activation='relu'))\n",
    "model.add(MaxPooling2D((2, 2)))\n",
    "model.add(Dropout(0.25))\n",
    "\n",
    "model.add(Conv2D(256, (3, 3),padding='same', activation='relu'))\n",
    "model.add(MaxPooling2D((2, 2)))\n",
    "model.add(Dropout(0.2))\n",
    "\n",
    "model.add(Conv2D(512, (3, 3),padding='same', activation='relu'))\n",
    "model.add(MaxPooling2D((2, 2)))\n",
    "model.add(Dropout(0.2))\n",
    "\n",
    "model.add(Flatten())\n",
    "model.add(Dense(256,activation='relu'))\n",
    "model.add(Dropout(0.25))\n",
    "model.add(Dense(512,activation='relu'))\n",
    "model.add(Dropout(0.2))\n",
    "model.add(Dense(7, activation='softmax'))"
   ]
  },
  {
   "cell_type": "code",
   "execution_count": 13,
   "metadata": {},
   "outputs": [
    {
     "name": "stdout",
     "output_type": "stream",
     "text": [
      "Model: \"sequential_1\"\n",
      "_________________________________________________________________\n",
      "Layer (type)                 Output Shape              Param #   \n",
      "=================================================================\n",
      "conv2d_1 (Conv2D)            (None, 48, 48, 64)        1792      \n",
      "_________________________________________________________________\n",
      "max_pooling2d_1 (MaxPooling2 (None, 24, 24, 64)        0         \n",
      "_________________________________________________________________\n",
      "dropout_1 (Dropout)          (None, 24, 24, 64)        0         \n",
      "_________________________________________________________________\n",
      "conv2d_2 (Conv2D)            (None, 24, 24, 128)       73856     \n",
      "_________________________________________________________________\n",
      "max_pooling2d_2 (MaxPooling2 (None, 12, 12, 128)       0         \n",
      "_________________________________________________________________\n",
      "dropout_2 (Dropout)          (None, 12, 12, 128)       0         \n",
      "_________________________________________________________________\n",
      "conv2d_3 (Conv2D)            (None, 12, 12, 256)       295168    \n",
      "_________________________________________________________________\n",
      "max_pooling2d_3 (MaxPooling2 (None, 6, 6, 256)         0         \n",
      "_________________________________________________________________\n",
      "dropout_3 (Dropout)          (None, 6, 6, 256)         0         \n",
      "_________________________________________________________________\n",
      "conv2d_4 (Conv2D)            (None, 6, 6, 512)         1180160   \n",
      "_________________________________________________________________\n",
      "max_pooling2d_4 (MaxPooling2 (None, 3, 3, 512)         0         \n",
      "_________________________________________________________________\n",
      "dropout_4 (Dropout)          (None, 3, 3, 512)         0         \n",
      "_________________________________________________________________\n",
      "flatten_1 (Flatten)          (None, 4608)              0         \n",
      "_________________________________________________________________\n",
      "dense_1 (Dense)              (None, 256)               1179904   \n",
      "_________________________________________________________________\n",
      "dropout_5 (Dropout)          (None, 256)               0         \n",
      "_________________________________________________________________\n",
      "dense_2 (Dense)              (None, 512)               131584    \n",
      "_________________________________________________________________\n",
      "dropout_6 (Dropout)          (None, 512)               0         \n",
      "_________________________________________________________________\n",
      "dense_3 (Dense)              (None, 7)                 3591      \n",
      "=================================================================\n",
      "Total params: 2,866,055\n",
      "Trainable params: 2,866,055\n",
      "Non-trainable params: 0\n",
      "_________________________________________________________________\n"
     ]
    }
   ],
   "source": [
    "model.summary()"
   ]
  },
  {
   "cell_type": "code",
   "execution_count": 4,
   "metadata": {},
   "outputs": [],
   "source": [
    "from keras.optimizers import Adam\n",
    "\n",
    "model.compile(loss='categorical_crossentropy',optimizer=Adam(lr=1e-4),metrics=['accuracy'])"
   ]
  },
  {
   "cell_type": "code",
   "execution_count": 5,
   "metadata": {},
   "outputs": [
    {
     "name": "stdout",
     "output_type": "stream",
     "text": [
      "Found 28821 images belonging to 7 classes.\n",
      "Found 7066 images belonging to 7 classes.\n"
     ]
    }
   ],
   "source": [
    "from keras.preprocessing.image import ImageDataGenerator\n",
    "\n",
    "train_datagen = ImageDataGenerator(rescale=1./255)\n",
    "test_datagen = ImageDataGenerator(rescale=1./255)\n",
    "\n",
    "train_generator = train_datagen.flow_from_directory(train_dir,\n",
    "                                                    target_size=(48, 48),\n",
    "                                                    batch_size=64,\n",
    "                                                    class_mode='categorical')\n",
    "\n",
    "validation_generator = test_datagen.flow_from_directory(validation_dir,\n",
    "                                                        target_size=(48, 48),\n",
    "                                                        batch_size=64,\n",
    "                                                        class_mode='categorical')"
   ]
  },
  {
   "cell_type": "code",
   "execution_count": 6,
   "metadata": {},
   "outputs": [],
   "source": [
    "from keras.callbacks import ReduceLROnPlateau,ModelCheckpoint\n",
    "\n",
    "reduce_lr = ReduceLROnPlateau(monitor='val_accuracy',patience=2,verbose=1,factor=0.1,min_lr=0.0001)\n",
    "filepath='model.weights11.h5'\n",
    "checkpoint=ModelCheckpoint(filepath,monitor='val_accuracy',save_best_only=True,mode='max',verbose=1)\n",
    "\n",
    "callbacks = [checkpoint,reduce_lr]"
   ]
  },
  {
   "cell_type": "code",
   "execution_count": 7,
   "metadata": {},
   "outputs": [
    {
     "name": "stdout",
     "output_type": "stream",
     "text": [
      "WARNING:tensorflow:From C:\\Users\\Venugopal\\anaconda3\\lib\\site-packages\\tensorflow\\python\\ops\\math_ops.py:3066: to_int32 (from tensorflow.python.ops.math_ops) is deprecated and will be removed in a future version.\n",
      "Instructions for updating:\n",
      "Use tf.cast instead.\n",
      "Epoch 1/50\n",
      "450/450 [==============================] - 946s 2s/step - loss: 1.8293 - accuracy: 0.2424 - val_loss: 1.8558 - val_accuracy: 0.2582\n",
      "\n",
      "Epoch 00001: val_accuracy improved from -inf to 0.25824, saving model to model.weights11.h5\n",
      "Epoch 2/50\n",
      "450/450 [==============================] - 497s 1s/step - loss: 1.7794 - accuracy: 0.2696 - val_loss: 1.6686 - val_accuracy: 0.3508\n",
      "\n",
      "Epoch 00002: val_accuracy improved from 0.25824 to 0.35076, saving model to model.weights11.h5\n",
      "Epoch 3/50\n",
      "450/450 [==============================] - 516s 1s/step - loss: 1.6053 - accuracy: 0.3694 - val_loss: 1.3148 - val_accuracy: 0.4239\n",
      "\n",
      "Epoch 00003: val_accuracy improved from 0.35076 to 0.42388, saving model to model.weights11.h5\n",
      "Epoch 4/50\n",
      "450/450 [==============================] - 540s 1s/step - loss: 1.4836 - accuracy: 0.4270 - val_loss: 1.4025 - val_accuracy: 0.4613\n",
      "\n",
      "Epoch 00004: val_accuracy improved from 0.42388 to 0.46130, saving model to model.weights11.h5\n",
      "Epoch 5/50\n",
      "450/450 [==============================] - 557s 1s/step - loss: 1.4029 - accuracy: 0.4603 - val_loss: 1.2427 - val_accuracy: 0.4953\n",
      "\n",
      "Epoch 00005: val_accuracy improved from 0.46130 to 0.49529, saving model to model.weights11.h5\n",
      "Epoch 6/50\n",
      "450/450 [==============================] - 825s 2s/step - loss: 1.3359 - accuracy: 0.4869 - val_loss: 1.5121 - val_accuracy: 0.5103\n",
      "\n",
      "Epoch 00006: val_accuracy improved from 0.49529 to 0.51028, saving model to model.weights11.h5\n",
      "Epoch 7/50\n",
      "450/450 [==============================] - 926s 2s/step - loss: 1.2767 - accuracy: 0.5127 - val_loss: 1.2352 - val_accuracy: 0.5383\n",
      "\n",
      "Epoch 00007: val_accuracy improved from 0.51028 to 0.53827, saving model to model.weights11.h5\n",
      "Epoch 8/50\n",
      "450/450 [==============================] - 920s 2s/step - loss: 1.2295 - accuracy: 0.5335 - val_loss: 1.3155 - val_accuracy: 0.5404\n",
      "\n",
      "Epoch 00008: val_accuracy improved from 0.53827 to 0.54042, saving model to model.weights11.h5\n",
      "Epoch 9/50\n",
      "450/450 [==============================] - 853s 2s/step - loss: 1.1855 - accuracy: 0.5516 - val_loss: 1.2030 - val_accuracy: 0.5627\n",
      "\n",
      "Epoch 00009: val_accuracy improved from 0.54042 to 0.56270, saving model to model.weights11.h5\n",
      "Epoch 10/50\n",
      "450/450 [==============================] - 859s 2s/step - loss: 1.1430 - accuracy: 0.5672 - val_loss: 0.9956 - val_accuracy: 0.5667\n",
      "\n",
      "Epoch 00010: val_accuracy improved from 0.56270 to 0.56670, saving model to model.weights11.h5\n",
      "Epoch 11/50\n",
      "450/450 [==============================] - 832s 2s/step - loss: 1.1100 - accuracy: 0.5807 - val_loss: 1.0813 - val_accuracy: 0.5797\n",
      "\n",
      "Epoch 00011: val_accuracy improved from 0.56670 to 0.57969, saving model to model.weights11.h5\n",
      "Epoch 12/50\n",
      "450/450 [==============================] - 535s 1s/step - loss: 1.0716 - accuracy: 0.5960 - val_loss: 1.1263 - val_accuracy: 0.5855\n",
      "\n",
      "Epoch 00012: val_accuracy improved from 0.57969 to 0.58555, saving model to model.weights11.h5\n",
      "Epoch 13/50\n",
      "450/450 [==============================] - 536s 1s/step - loss: 1.0366 - accuracy: 0.6115 - val_loss: 1.1751 - val_accuracy: 0.5838\n",
      "\n",
      "Epoch 00013: val_accuracy did not improve from 0.58555\n",
      "Epoch 14/50\n",
      "450/450 [==============================] - 552s 1s/step - loss: 1.0107 - accuracy: 0.6200 - val_loss: 0.9617 - val_accuracy: 0.6031\n",
      "\n",
      "Epoch 00014: val_accuracy improved from 0.58555 to 0.60311, saving model to model.weights11.h5\n",
      "Epoch 15/50\n",
      "450/450 [==============================] - 745s 2s/step - loss: 0.9664 - accuracy: 0.6378 - val_loss: 1.0433 - val_accuracy: 0.6045\n",
      "\n",
      "Epoch 00015: val_accuracy improved from 0.60311 to 0.60454, saving model to model.weights11.h5\n",
      "Epoch 16/50\n",
      "450/450 [==============================] - 590s 1s/step - loss: 0.9384 - accuracy: 0.6516 - val_loss: 0.8884 - val_accuracy: 0.6074\n",
      "\n",
      "Epoch 00016: val_accuracy improved from 0.60454 to 0.60740, saving model to model.weights11.h5\n",
      "Epoch 17/50\n",
      "450/450 [==============================] - 613s 1s/step - loss: 0.9019 - accuracy: 0.6639 - val_loss: 1.2688 - val_accuracy: 0.6065\n",
      "\n",
      "Epoch 00017: val_accuracy did not improve from 0.60740\n",
      "Epoch 18/50\n",
      "450/450 [==============================] - 609s 1s/step - loss: 0.8656 - accuracy: 0.6784 - val_loss: 1.1522 - val_accuracy: 0.6170\n",
      "\n",
      "Epoch 00018: val_accuracy improved from 0.60740 to 0.61697, saving model to model.weights11.h5\n",
      "Epoch 19/50\n",
      "450/450 [==============================] - 612s 1s/step - loss: 0.8304 - accuracy: 0.6924 - val_loss: 1.2113 - val_accuracy: 0.6133\n",
      "\n",
      "Epoch 00019: val_accuracy did not improve from 0.61697\n",
      "Epoch 20/50\n",
      "450/450 [==============================] - 637s 1s/step - loss: 0.7917 - accuracy: 0.7065 - val_loss: 0.9577 - val_accuracy: 0.6271\n",
      "\n",
      "Epoch 00020: val_accuracy improved from 0.61697 to 0.62711, saving model to model.weights11.h5\n",
      "Epoch 21/50\n",
      "450/450 [==============================] - 672s 1s/step - loss: 0.7630 - accuracy: 0.7182 - val_loss: 0.9385 - val_accuracy: 0.6271\n",
      "\n",
      "Epoch 00021: val_accuracy did not improve from 0.62711\n",
      "Epoch 22/50\n",
      "450/450 [==============================] - 872s 2s/step - loss: 0.7212 - accuracy: 0.7346 - val_loss: 1.2609 - val_accuracy: 0.6308\n",
      "\n",
      "Epoch 00022: val_accuracy improved from 0.62711 to 0.63082, saving model to model.weights11.h5\n",
      "Epoch 23/50\n",
      "450/450 [==============================] - 870s 2s/step - loss: 0.6889 - accuracy: 0.7493 - val_loss: 1.0196 - val_accuracy: 0.6342\n",
      "\n",
      "Epoch 00023: val_accuracy improved from 0.63082 to 0.63425, saving model to model.weights11.h5\n",
      "Epoch 24/50\n",
      "450/450 [==============================] - 871s 2s/step - loss: 0.6582 - accuracy: 0.7584 - val_loss: 1.3029 - val_accuracy: 0.6210\n",
      "\n",
      "Epoch 00024: val_accuracy did not improve from 0.63425\n",
      "Epoch 25/50\n",
      "450/450 [==============================] - 751s 2s/step - loss: 0.6229 - accuracy: 0.7697 - val_loss: 1.0839 - val_accuracy: 0.6280\n",
      "\n",
      "Epoch 00025: val_accuracy did not improve from 0.63425\n",
      "Epoch 26/50\n",
      "450/450 [==============================] - 602s 1s/step - loss: 0.5913 - accuracy: 0.7821 - val_loss: 1.1542 - val_accuracy: 0.6268\n",
      "\n",
      "Epoch 00026: val_accuracy did not improve from 0.63425\n",
      "Epoch 27/50\n",
      "450/450 [==============================] - 576s 1s/step - loss: 0.5573 - accuracy: 0.7958 - val_loss: 1.3624 - val_accuracy: 0.6321\n",
      "\n",
      "Epoch 00027: val_accuracy did not improve from 0.63425\n",
      "Epoch 28/50\n",
      "450/450 [==============================] - 561s 1s/step - loss: 0.5340 - accuracy: 0.8063 - val_loss: 0.9948 - val_accuracy: 0.6274\n",
      "\n",
      "Epoch 00028: val_accuracy did not improve from 0.63425\n",
      "Epoch 29/50\n",
      "450/450 [==============================] - 551s 1s/step - loss: 0.5063 - accuracy: 0.8166 - val_loss: 1.4161 - val_accuracy: 0.6317\n",
      "\n",
      "Epoch 00029: val_accuracy did not improve from 0.63425\n",
      "Epoch 30/50\n",
      "450/450 [==============================] - 683s 2s/step - loss: 0.4799 - accuracy: 0.8260 - val_loss: 1.3774 - val_accuracy: 0.6301\n",
      "\n",
      "Epoch 00030: val_accuracy did not improve from 0.63425\n",
      "Epoch 31/50\n",
      "450/450 [==============================] - 926s 2s/step - loss: 0.4559 - accuracy: 0.8351 - val_loss: 1.0348 - val_accuracy: 0.6275\n",
      "\n",
      "Epoch 00031: val_accuracy did not improve from 0.63425\n",
      "Epoch 32/50\n",
      "450/450 [==============================] - 869s 2s/step - loss: 0.4254 - accuracy: 0.8437 - val_loss: 1.0357 - val_accuracy: 0.6292\n",
      "\n",
      "Epoch 00032: val_accuracy did not improve from 0.63425\n",
      "Epoch 33/50\n",
      "450/450 [==============================] - 864s 2s/step - loss: 0.4111 - accuracy: 0.8498 - val_loss: 1.4749 - val_accuracy: 0.6327\n",
      "\n",
      "Epoch 00033: val_accuracy did not improve from 0.63425\n",
      "Epoch 34/50\n",
      "450/450 [==============================] - 866s 2s/step - loss: 0.3837 - accuracy: 0.8600 - val_loss: 1.3545 - val_accuracy: 0.6248\n",
      "\n",
      "Epoch 00034: val_accuracy did not improve from 0.63425\n",
      "Epoch 35/50\n",
      "450/450 [==============================] - 555s 1s/step - loss: 0.3727 - accuracy: 0.8662 - val_loss: 1.1479 - val_accuracy: 0.6412\n",
      "\n",
      "Epoch 00035: val_accuracy improved from 0.63425 to 0.64125, saving model to model.weights11.h5\n",
      "Epoch 36/50\n",
      "450/450 [==============================] - 521s 1s/step - loss: 0.3509 - accuracy: 0.8745 - val_loss: 1.1086 - val_accuracy: 0.6402\n"
     ]
    },
    {
     "name": "stdout",
     "output_type": "stream",
     "text": [
      "\n",
      "Epoch 00036: val_accuracy did not improve from 0.64125\n",
      "Epoch 37/50\n",
      "450/450 [==============================] - 525s 1s/step - loss: 0.3341 - accuracy: 0.8800 - val_loss: 1.6133 - val_accuracy: 0.6231\n",
      "\n",
      "Epoch 00037: val_accuracy did not improve from 0.64125\n",
      "Epoch 38/50\n",
      "450/450 [==============================] - 522s 1s/step - loss: 0.3140 - accuracy: 0.8870 - val_loss: 1.3429 - val_accuracy: 0.6302\n",
      "\n",
      "Epoch 00038: val_accuracy did not improve from 0.64125\n",
      "Epoch 39/50\n",
      "450/450 [==============================] - 523s 1s/step - loss: 0.3017 - accuracy: 0.8918 - val_loss: 1.5887 - val_accuracy: 0.6354\n",
      "\n",
      "Epoch 00039: val_accuracy did not improve from 0.64125\n",
      "Epoch 40/50\n",
      "450/450 [==============================] - 521s 1s/step - loss: 0.2864 - accuracy: 0.8971 - val_loss: 1.6216 - val_accuracy: 0.6317\n",
      "\n",
      "Epoch 00040: val_accuracy did not improve from 0.64125\n",
      "Epoch 41/50\n",
      "450/450 [==============================] - 523s 1s/step - loss: 0.2798 - accuracy: 0.8972 - val_loss: 1.4959 - val_accuracy: 0.6345\n",
      "\n",
      "Epoch 00041: val_accuracy did not improve from 0.64125\n",
      "Epoch 42/50\n",
      "450/450 [==============================] - 847s 2s/step - loss: 0.2719 - accuracy: 0.9030 - val_loss: 1.4290 - val_accuracy: 0.6295\n",
      "\n",
      "Epoch 00042: val_accuracy did not improve from 0.64125\n",
      "Epoch 43/50\n",
      "450/450 [==============================] - 864s 2s/step - loss: 0.2556 - accuracy: 0.9071 - val_loss: 1.8729 - val_accuracy: 0.6322\n",
      "\n",
      "Epoch 00043: val_accuracy did not improve from 0.64125\n",
      "Epoch 44/50\n",
      "450/450 [==============================] - 864s 2s/step - loss: 0.2451 - accuracy: 0.9124 - val_loss: 0.9878 - val_accuracy: 0.6334\n",
      "\n",
      "Epoch 00044: val_accuracy did not improve from 0.64125\n",
      "Epoch 45/50\n",
      "450/450 [==============================] - 864s 2s/step - loss: 0.2355 - accuracy: 0.9180 - val_loss: 1.3652 - val_accuracy: 0.6334\n",
      "\n",
      "Epoch 00045: val_accuracy did not improve from 0.64125\n",
      "Epoch 46/50\n",
      "450/450 [==============================] - 864s 2s/step - loss: 0.2237 - accuracy: 0.9219 - val_loss: 1.7643 - val_accuracy: 0.6357\n",
      "\n",
      "Epoch 00046: val_accuracy did not improve from 0.64125\n",
      "Epoch 47/50\n",
      "450/450 [==============================] - 864s 2s/step - loss: 0.2188 - accuracy: 0.9223 - val_loss: 1.2406 - val_accuracy: 0.6238\n",
      "\n",
      "Epoch 00047: val_accuracy did not improve from 0.64125\n",
      "Epoch 48/50\n",
      "450/450 [==============================] - 872s 2s/step - loss: 0.2056 - accuracy: 0.9273 - val_loss: 1.6328 - val_accuracy: 0.6292\n",
      "\n",
      "Epoch 00048: val_accuracy did not improve from 0.64125\n",
      "Epoch 49/50\n",
      "450/450 [==============================] - 582s 1s/step - loss: 0.2059 - accuracy: 0.9276 - val_loss: 1.4662 - val_accuracy: 0.6407\n",
      "\n",
      "Epoch 00049: val_accuracy did not improve from 0.64125\n",
      "Epoch 50/50\n",
      "450/450 [==============================] - 514s 1s/step - loss: 0.2017 - accuracy: 0.9275 - val_loss: 1.4284 - val_accuracy: 0.6351\n",
      "\n",
      "Epoch 00050: val_accuracy did not improve from 0.64125\n"
     ]
    }
   ],
   "source": [
    "history = model.fit_generator(\n",
    "      train_generator,\n",
    "      steps_per_epoch=450,\n",
    "      epochs=50,\n",
    "      validation_data=validation_generator,\n",
    "      validation_steps=110,\n",
    "      callbacks=callbacks)"
   ]
  },
  {
   "cell_type": "code",
   "execution_count": 8,
   "metadata": {},
   "outputs": [
    {
     "data": {
      "image/png": "[encoded data removed]",
      "text/plain": [
       "<Figure size 432x288 with 1 Axes>"
      ]
     },
     "metadata": {
      "needs_background": "light"
     },
     "output_type": "display_data"
    },
    {
     "data": {
      "image/png": "[encoded data removed]",
      "text/plain": [
       "<Figure size 432x288 with 1 Axes>"
      ]
     },
     "metadata": {
      "needs_background": "light"
     },
     "output_type": "display_data"
    }
   ],
   "source": [
    "import matplotlib.pyplot as plt\n",
    "acc = history.history['accuracy']\n",
    "val_acc = history.history['val_accuracy']\n",
    "loss = history.history['loss']\n",
    "val_loss = history.history['val_loss']\n",
    "\n",
    "epochs = range(len(acc))\n",
    "\n",
    "plt.plot(epochs, acc, 'bo', label='Training acc')\n",
    "plt.plot(epochs, val_acc, 'b', label='Validation acc')\n",
    "plt.title('Training and validation accuracy')\n",
    "plt.legend()\n",
    "\n",
    "plt.figure()\n",
    "\n",
    "plt.plot(epochs, loss, 'bo', label='Training loss')\n",
    "plt.plot(epochs, val_loss, 'b', label='Validation loss')\n",
    "plt.title('Training and validation loss')\n",
    "plt.legend()\n",
    "\n",
    "plt.show()"
   ]
  },
  {
   "cell_type": "code",
   "execution_count": null,
   "metadata": {},
   "outputs": [],
   "source": []
  }
 ],
 "metadata": {
  "kernelspec": {
   "display_name": "Python 3",
   "language": "python",
   "name": "python3"
  },
  "language_info": {
   "codemirror_mode": {
    "name": "ipython",
    "version": 3
   },
   "file_extension": ".py",
   "mimetype": "text/x-python",
   "name": "python",
   "nbconvert_exporter": "python",
   "pygments_lexer": "ipython3",
   "version": "3.7.6"
  }
 },
 "nbformat": 4,
 "nbformat_minor": 4
}
